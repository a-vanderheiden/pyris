{
 "cells": [
  {
   "cell_type": "markdown",
   "id": "63a423f1",
   "metadata": {},
   "source": [
    "# Interface to batch download Landsat data for use with pyris\n",
    "In its current state, the pyris package runs locally on your machine and therefor requires that you download your landsat scenes.  \n",
    "\n",
    "In the original publication, the user is supposed to downlaod the images from Earth Explorer. I found that the Earth Explorer website to be clunky and difficult to use. Instead this notebook utilizes the python api for Google Earth Engine to download landsat imagery.  \n",
    "\n",
    "This interface is superior in four ways:\n",
    "   1. it is automateable\n",
    "   2. it is interactive\n",
    "   3. it is explicit \n",
    "   4. it allows for the filtering of cloudy images\n",
    "\n",
    "\n",
    "This interface will allow you to specify a region of interest (roi), select all applicable landsat imagery for that region, and then download the selected imagery.  \n",
    "\n",
    "**Note**: these images are downloaded as multiband TIFFs with unique but relativelty non-descript file names. Rasterio is used to break apart these tiffs into single band images and rename them to according their landsat product ID with the help of a config file automatically generated based on the user's selection."
   ]
  },
  {
   "cell_type": "code",
   "execution_count": 1,
   "id": "09673ce9",
   "metadata": {},
   "outputs": [],
   "source": [
    "import ee\n",
    "import geemap\n",
    "import pathlib\n",
    "import os\n",
    "import rasterio\n",
    "import json"
   ]
  },
  {
   "cell_type": "markdown",
   "id": "6b48f272",
   "metadata": {},
   "source": [
    "# Specify your ROI\n",
    "\n",
    "- Run the cell below to create the interactive map\n",
    "- after loading the map, run the cells below to load your ROI in one of two ways:\n",
    "    - **Draw**: interactively draw your ROI on the map. Can save for later\n",
    "    - **Load**: Load a predefined roi. Must be in geojson format\n",
    "- either way you choose, the created ROI wil be a `ee.Geometry.Polygon` instance\n"
   ]
  },
  {
   "cell_type": "code",
   "execution_count": 2,
   "id": "bfea71b3",
   "metadata": {},
   "outputs": [
    {
     "data": {
      "application/vnd.jupyter.widget-view+json": {
       "model_id": "3b5a0a935d4846f2952d9ea7b9cc7d0d",
       "version_major": 2,
       "version_minor": 0
      },
      "text/plain": [
       "Map(center=[-7.009, -75.1662], controls=(WidgetControl(options=['position', 'transparent_bg'], widget=HBox(chi…"
      ]
     },
     "metadata": {},
     "output_type": "display_data"
    }
   ],
   "source": [
    "Map = geemap.Map(center=(-7.0090,-75.1662), zoom=10, basemap=\"HYBRID\")\n",
    "Map"
   ]
  },
  {
   "cell_type": "code",
   "execution_count": 3,
   "id": "0b6a8766",
   "metadata": {},
   "outputs": [],
   "source": [
    "def ee_poly_as_json(ee_feature, out_path, crs):\n",
    "    \"\"\"Save a `ee.Geometry` object as geojson\"\"\"\n",
    "    \n",
    "    # Save roi to disk\n",
    "    with open(out_path, 'w') as dst:\n",
    "        roi_dict = {\"type\": \"Feature\",\n",
    "                    \"crs\": {\"type\": \"name\", \n",
    "                            \"properties\": {\"name\": crs } \n",
    "                            },\n",
    "                     \"geometry\": {\"type\":ee_feature.getInfo()[\"type\"],\n",
    "                                  \"coordinates\": ee_feature.getInfo()[\"coordinates\"]\n",
    "                                 },\n",
    "                     \"properties\": {\"ID\": 1}\n",
    "                    }\n",
    "\n",
    "        json.dump(roi_dict, dst)\n",
    "        \n",
    "    if pathlib.Path(out_path).exists():\n",
    "        print(f\"Saved roi to {out_path}\")\n",
    "    else:\n",
    "        print(\"Something went wrong, file was not saved\")"
   ]
  },
  {
   "cell_type": "code",
   "execution_count": 4,
   "id": "98ee3cd2",
   "metadata": {},
   "outputs": [],
   "source": [
    "def load_or_draw(gee_map):\n",
    "    \n",
    "    # Check if the user wants to upload an roi or draw one themselves\n",
    "    has_roi = input(\"Do you have a predefined region of interest (roi)? [y/n]: \")\n",
    "    \n",
    "    if has_roi.lower() == \"y\":\n",
    "        roi_path = input(\"Paste the file path for your roi here (GeoJSON): \")\n",
    "        \n",
    "        roi_json = json.load(open(roi_path))\n",
    "        \n",
    "        roi_gee = ee.Geometry.Polygon(roi_json['geometry']['coordinates'])\n",
    "        \n",
    "    else:\n",
    "        # Use the map widget to get the roi\n",
    "        print(\"Use the 'Draw Rectangle' widget on the map above to specify your roi\")\n",
    "        \n",
    "        # Wait for user to finish drawing the roi\n",
    "        _draw_roi = input(\"Type 'done' when you have drawn your roi: \")\n",
    "        \n",
    "        # Grab the feature that was drawn last and cast to ee.Geometry object\n",
    "        last_feature = gee_map.draw_last_feature\n",
    "        roi_gee = last_feature.geometry()\n",
    "        \n",
    "        # Allow user to save the feature as geojson for later use\n",
    "        save_roi = input(\"Do you want to save the roi to disk? [y/n]: \")\n",
    "        \n",
    "        if save_roi.lower() == 'y':\n",
    "            export_path = input(\"Paste the file path for your roi output here: \")\n",
    "            \n",
    "            # Get crs from GEE map\n",
    "            map_crs = gee_map.crs[\"name\"]\n",
    "        \n",
    "            ee_poly_as_json(roi_gee, export_path, map_crs)\n",
    "            \n",
    "    return roi_gee\n",
    "    "
   ]
  },
  {
   "cell_type": "markdown",
   "id": "36b08350",
   "metadata": {},
   "source": [
    "## Create the `roi` variable"
   ]
  },
  {
   "cell_type": "code",
   "execution_count": 5,
   "id": "e0d3ca67",
   "metadata": {},
   "outputs": [
    {
     "name": "stdout",
     "output_type": "stream",
     "text": [
      "Do you have a predefined region of interest (roi)? [y/n]: y\n",
      "Paste the file path for your roi here (GeoJSON): /Users/avan/FLUD/pyris/data/gee_roi.json\n"
     ]
    }
   ],
   "source": [
    "roi = load_or_draw(Map)"
   ]
  },
  {
   "cell_type": "code",
   "execution_count": 6,
   "id": "8dae02f8",
   "metadata": {},
   "outputs": [
    {
     "data": {
      "text/plain": [
       "{'type': 'Polygon',\n",
       " 'coordinates': [[[-75.270615, -7.117884],\n",
       "   [-75.078297, -7.117884],\n",
       "   [-75.078297, -6.938254],\n",
       "   [-75.270615, -6.938254],\n",
       "   [-75.270615, -7.117884]]]}"
      ]
     },
     "execution_count": 6,
     "metadata": {},
     "output_type": "execute_result"
    }
   ],
   "source": [
    "roi.getInfo()"
   ]
  },
  {
   "cell_type": "markdown",
   "id": "613e78f6",
   "metadata": {},
   "source": [
    "## Access Landsat data\n",
    "- There have been several landsat missions since th 1980s: Landsat 5, 7, 8, & 9\n",
    "- Google Earth Engine has archived many collections of landsat data according to their mission number and level of product provided\n",
    "- The dictionary below contains all the GEE links to lansat ImageCollection relevant for pyris as well as the band names that we need\n"
   ]
  },
  {
   "cell_type": "code",
   "execution_count": 7,
   "id": "3549d387",
   "metadata": {},
   "outputs": [],
   "source": [
    "# pyris band requirements are listed in misc.misc.LoadLandsatData()\n",
    "\n",
    "ls_dict = {\n",
    "    'LS04':{\n",
    "        'link':'LANDSAT/LT04/C01/T1',\n",
    "        'bands':['B1', 'B2', 'B3', 'B4', 'B5', 'B7']\n",
    "    },\n",
    "    'LS05':{\n",
    "        'link':'LANDSAT/LT05/C01/T1',\n",
    "        'bands':['B1', 'B2', 'B3', 'B4', 'B5', 'B7']\n",
    "    },\n",
    "    'LS07':{\n",
    "        'link':'LANDSAT/LE07/C01/T1',\n",
    "        'bands':['B1', 'B2', 'B3', 'B4', 'B5', 'B7']\n",
    "    },\n",
    "    'LS08':{\n",
    "        'link':'LANDSAT/LC08/C01/T1',\n",
    "        'bands':['B2','B3','B4','B5', 'B6', 'B7']\n",
    "    },\n",
    "    'LS09':{\n",
    "        'link':'LANDSAT/LC09/C02/T1',\n",
    "        'bands':['B2','B3','B4','B5', 'B6', 'B7']\n",
    "    }\n",
    "}"
   ]
  },
  {
   "cell_type": "markdown",
   "id": "9c988019",
   "metadata": {},
   "source": [
    "## Access and filter landsat data"
   ]
  },
  {
   "cell_type": "markdown",
   "id": "d2f9f93d",
   "metadata": {},
   "source": [
    "### Specify your landsat program 5, 7, 8, or 9"
   ]
  },
  {
   "cell_type": "code",
   "execution_count": 8,
   "id": "2db1965e",
   "metadata": {},
   "outputs": [],
   "source": [
    "landsat = \"LS09\"\n",
    "\n",
    "collection_link = ls_dict[landsat]['link']\n",
    "band_list = ls_dict[landsat]['bands']"
   ]
  },
  {
   "cell_type": "markdown",
   "id": "2d9a6da4",
   "metadata": {},
   "source": [
    "### Get the image collection and filter"
   ]
  },
  {
   "cell_type": "code",
   "execution_count": 9,
   "id": "6acefcf9",
   "metadata": {},
   "outputs": [],
   "source": [
    "def get_bands(image, band_list):\n",
    "    \"\"\"Filter image to only the desired bands\"\"\"\n",
    "    return image.select(band_list)"
   ]
  },
  {
   "cell_type": "code",
   "execution_count": 10,
   "id": "a7c79add",
   "metadata": {},
   "outputs": [
    {
     "name": "stdout",
     "output_type": "stream",
     "text": [
      "2 images in current collection:\n",
      "LC09_L1TP_007065_20220108_20220122_02_T1\n",
      "LC09_L1TP_007065_20220617_20220618_02_T1\n"
     ]
    }
   ],
   "source": [
    "# Create image collection\n",
    "collection = (ee.ImageCollection(collection_link)\n",
    "                .filterBounds(roi)\n",
    "                  .filter(ee.Filter.lt(\"CLOUD_COVER\", 10))\n",
    "             )\n",
    "\n",
    "# Filter for specific bands\n",
    "collection = collection.map(lambda x: get_bands(x, band_list))\n",
    "\n",
    "# Add image collection to map above\n",
    "Map.addLayer(collection)\n",
    "\n",
    "# Get metadata of image collection\n",
    "coll_info = collection.getInfo()\n",
    "\n",
    "# Check number of images returned\n",
    "print(f\"{len(coll_info['features'])} images in current collection:\")\n",
    "[print(feat['properties']['LANDSAT_PRODUCT_ID']) for feat in coll_info[\"features\"]];"
   ]
  },
  {
   "cell_type": "markdown",
   "id": "1fc5f744",
   "metadata": {},
   "source": [
    "## Download images to disk"
   ]
  },
  {
   "cell_type": "code",
   "execution_count": 11,
   "id": "f6de16a1",
   "metadata": {},
   "outputs": [
    {
     "name": "stdout",
     "output_type": "stream",
     "text": [
      "Total number of images: 2\n",
      "\n",
      "Exporting 1/2: LC09_007065_20220108.tif\n",
      "Generating URL ...\n",
      "Downloading data from https://earthengine.googleapis.com/v1alpha/projects/earthengine-legacy/thumbnails/0041967c3424715beda5bb69e29918b6-a6e644fec0f1c282eeb79c86b4934c44:getPixels\n",
      "Please wait ...\n",
      "Data downloaded to /Users/avan/Downloads/gee_export_LANDSAT_LC09_C02_T1/LC09_007065_20220108.tif\n",
      "\n",
      "\n",
      "Exporting 2/2: LC09_007065_20220617.tif\n",
      "Generating URL ...\n",
      "Downloading data from https://earthengine.googleapis.com/v1alpha/projects/earthengine-legacy/thumbnails/21b9755a440688f6d96d709dd53eebb4-1d50aab623bcef4acdd7222412e1a489:getPixels\n",
      "Please wait ...\n",
      "Data downloaded to /Users/avan/Downloads/gee_export_LANDSAT_LC09_C02_T1/LC09_007065_20220617.tif\n",
      "\n",
      "\n"
     ]
    }
   ],
   "source": [
    "export_dir = pathlib.Path.home() / 'Downloads' / f\"gee_export_{collection_link.replace('/', '_')}\"\n",
    "if not export_dir.exists():\n",
    "    export_dir.mkdir(parents=True)\n",
    "\n",
    "geemap.ee_export_image_collection(ee_object=collection, \n",
    "                                  out_dir=export_dir,\n",
    "                                  region=roi\n",
    "                                  )"
   ]
  },
  {
   "cell_type": "markdown",
   "id": "7ade29ad",
   "metadata": {},
   "source": [
    "## Mimic the Earth Explorer file output structure\n",
    "- PYRIS expects images to come in this form, so we need to manipulate the GEE exports to fit this"
   ]
  },
  {
   "cell_type": "markdown",
   "id": "bd29f24d",
   "metadata": {},
   "source": [
    "```\n",
    "├── \n",
    "├── [LANDSAT_PRODUCT_ID]\n",
    "│   ├── [LANDSAT_PRODUCT_ID]_B[BAND_NUMBER].tif\n",
    "│   └── [LANDSAT_PRODUCT_ID]_B[BAND_NUMBER].tif\n",
    "├── [LANDSAT_PRODUCT_ID]\n",
    "│   ├── [LANDSAT_PRODUCT_ID]_B[BAND_NUMBER].tif\n",
    "│   └── [LANDSAT_PRODUCT_ID]_B[BAND_NUMBER].tif\n",
    "├── ...\n",
    "```"
   ]
  },
  {
   "cell_type": "markdown",
   "id": "3e43a1c5",
   "metadata": {},
   "source": [
    "- So we need to first get the image IDs from each image, then get the band numbers\n",
    "- Metadata from GEE is saved in the dictionary `coll_info`"
   ]
  },
  {
   "cell_type": "markdown",
   "id": "ad3896e9",
   "metadata": {},
   "source": [
    "### Create directory for each image"
   ]
  },
  {
   "cell_type": "code",
   "execution_count": 12,
   "id": "1e87723f",
   "metadata": {},
   "outputs": [],
   "source": [
    "def get_product_ids(coll_info:dict) -> list:\n",
    "    bucket = []\n",
    "    \n",
    "    # Loop through all features in the image collection \n",
    "    for feat in coll_info[\"features\"]:\n",
    "        bucket.append(feat[\"properties\"][\"LANDSAT_PRODUCT_ID\"])\n",
    "    return bucket"
   ]
  },
  {
   "cell_type": "code",
   "execution_count": 13,
   "id": "e2191f3a",
   "metadata": {},
   "outputs": [],
   "source": [
    "# Make output directory\n",
    "rename_dir = pathlib.Path.home() / \"Downloads\" / f\"rename_{collection_link.replace('/', '_')}\"\n",
    "if not rename_dir.exists():\n",
    "    rename_dir.mkdir(parents=True)\n",
    "    "
   ]
  },
  {
   "cell_type": "code",
   "execution_count": 14,
   "id": "b1c125ff",
   "metadata": {},
   "outputs": [],
   "source": [
    "# Loop through metadata and make output subdirectories\n",
    "for p_id in get_product_ids(coll_info):\n",
    "    path = rename_dir / p_id\n",
    "    if not path.exists():\n",
    "        path.mkdir()"
   ]
  },
  {
   "cell_type": "markdown",
   "id": "037dc8e0",
   "metadata": {},
   "source": [
    "### Split each output image and save to the right directory"
   ]
  },
  {
   "cell_type": "code",
   "execution_count": 15,
   "id": "823973b2",
   "metadata": {},
   "outputs": [],
   "source": [
    "def split_and_save(in_dir:str, out_dir:str, band_names:list) -> None:\n",
    "    \"\"\"Split every landsat image in `in_dir` into its component bands and save them as individual images in outdir\"\"\"\n",
    "    \n",
    "    # Iterate over all tifs created by GEE\n",
    "    gee_tif_paths = pathlib.Path(in_dir).iterdir()\n",
    "    \n",
    "    for path in gee_tif_paths:\n",
    "        \n",
    "        # Get components of the path name\n",
    "        platform, row_path, acq_date = path.stem.split(\"_\")\n",
    "        \n",
    "        # Open the tif and get its metadata\n",
    "        ds = rasterio.open(path)\n",
    "        profile = ds.profile\n",
    "        \n",
    "#         num_bands = profile[\"count\"]\n",
    "        \n",
    "        # Create image for each band\n",
    "        for i, name in enumerate(band_names):\n",
    "            \n",
    "            # Get array\n",
    "            arr = ds.read(i+1)\n",
    "            \n",
    "            # Redefine out_profile\n",
    "            out_profile = profile.copy()\n",
    "            out_profile[\"count\"] = 1\n",
    "            \n",
    "            # Find matching output subdirectory\n",
    "            out_sub_dir = pathlib.Path(next(out_dir.glob(f\"{platform}*{acq_date}*\")))\n",
    "            \n",
    "            # Create output name with band number\n",
    "            out_name = f\"{out_sub_dir.name}_{name.split('_')[-1]}.TIF\"  # SR product bands are named 'SR_B1'\n",
    "            \n",
    "            # Create final out_path\n",
    "            out_path = out_sub_dir / out_name\n",
    "            \n",
    "            # Save image to its corresponding directory\n",
    "            with rasterio.open(out_path, 'w', **out_profile) as dst:\n",
    "                dst.write(arr, 1)"
   ]
  },
  {
   "cell_type": "code",
   "execution_count": 16,
   "id": "86344c92",
   "metadata": {},
   "outputs": [
    {
     "name": "stderr",
     "output_type": "stream",
     "text": [
      "Warning 1: TIFFReadDirectory:Sum of Photometric type-related color channels and ExtraSamples doesn't match SamplesPerPixel. Defining non-color channels as ExtraSamples.\n",
      "Warning 1: TIFFReadDirectory:Sum of Photometric type-related color channels and ExtraSamples doesn't match SamplesPerPixel. Defining non-color channels as ExtraSamples.\n"
     ]
    }
   ],
   "source": [
    "split_and_save(in_dir=export_dir, out_dir=rename_dir, band_names = band_list)"
   ]
  },
  {
   "cell_type": "code",
   "execution_count": null,
   "id": "5af24f77",
   "metadata": {},
   "outputs": [],
   "source": []
  }
 ],
 "metadata": {
  "kernelspec": {
   "display_name": "Python 3 (ipykernel)",
   "language": "python",
   "name": "python3"
  },
  "language_info": {
   "codemirror_mode": {
    "name": "ipython",
    "version": 3
   },
   "file_extension": ".py",
   "mimetype": "text/x-python",
   "name": "python",
   "nbconvert_exporter": "python",
   "pygments_lexer": "ipython3",
   "version": "3.8.13"
  }
 },
 "nbformat": 4,
 "nbformat_minor": 5
}
